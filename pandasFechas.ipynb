{
  "nbformat": 4,
  "nbformat_minor": 0,
  "metadata": {
    "colab": {
      "provenance": []
    },
    "kernelspec": {
      "name": "python3",
      "display_name": "Python 3"
    },
    "language_info": {
      "name": "python"
    }
  },
  "cells": [
    {
      "cell_type": "code",
      "execution_count": 1,
      "metadata": {
        "id": "tY6h9vZY2pMp"
      },
      "outputs": [],
      "source": [
        "from datetime import date"
      ]
    },
    {
      "cell_type": "code",
      "source": [
        "mi_fecha = date(1972,1,6)\n",
        "print(mi_fecha)"
      ],
      "metadata": {
        "colab": {
          "base_uri": "https://localhost:8080/"
        },
        "id": "wzG9rhuR3HjQ",
        "outputId": "da590d39-bd3d-40e0-8a11-53da0e0c27af"
      },
      "execution_count": 6,
      "outputs": [
        {
          "output_type": "stream",
          "name": "stdout",
          "text": [
            "1972-01-06\n"
          ]
        }
      ]
    },
    {
      "cell_type": "code",
      "source": [
        "print(type(mi_fecha))"
      ],
      "metadata": {
        "colab": {
          "base_uri": "https://localhost:8080/"
        },
        "id": "8MzUi1HH3o1e",
        "outputId": "e086c85c-122e-4add-c3dc-e067fea41ccd"
      },
      "execution_count": 7,
      "outputs": [
        {
          "output_type": "stream",
          "name": "stdout",
          "text": [
            "<class 'datetime.date'>\n"
          ]
        }
      ]
    },
    {
      "cell_type": "code",
      "source": [
        "#Dia\n",
        "print(\"Dia: \",mi_fecha.day)"
      ],
      "metadata": {
        "colab": {
          "base_uri": "https://localhost:8080/"
        },
        "id": "BMc_TsMG3rRq",
        "outputId": "ce48f0af-5952-4a35-f184-b582db9f79cd"
      },
      "execution_count": 8,
      "outputs": [
        {
          "output_type": "stream",
          "name": "stdout",
          "text": [
            "Dia:  6\n"
          ]
        }
      ]
    },
    {
      "cell_type": "code",
      "source": [
        "#Mes\n",
        "print(\"Mes: \",mi_fecha.month)"
      ],
      "metadata": {
        "colab": {
          "base_uri": "https://localhost:8080/"
        },
        "id": "J4OHlubT3yLV",
        "outputId": "98c22e7a-805a-41ea-9caf-5b24687e60dc"
      },
      "execution_count": 9,
      "outputs": [
        {
          "output_type": "stream",
          "name": "stdout",
          "text": [
            "Mes:  1\n"
          ]
        }
      ]
    },
    {
      "cell_type": "code",
      "source": [
        "#Año\n",
        "print(\"Año: \",mi_fecha.year)"
      ],
      "metadata": {
        "colab": {
          "base_uri": "https://localhost:8080/"
        },
        "id": "YnersjBD35Kh",
        "outputId": "b6a12a98-f927-434c-8f9b-610891f389aa"
      },
      "execution_count": 10,
      "outputs": [
        {
          "output_type": "stream",
          "name": "stdout",
          "text": [
            "Año:  1972\n"
          ]
        }
      ]
    },
    {
      "cell_type": "code",
      "source": [
        "#Fecha actual\n",
        "fecha_actual = date.today()\n",
        "print(fecha_actual)"
      ],
      "metadata": {
        "colab": {
          "base_uri": "https://localhost:8080/"
        },
        "id": "JMx1RIvP3_jn",
        "outputId": "52cb5a63-4866-4d0b-ab08-fc1c7f71a74a"
      },
      "execution_count": 11,
      "outputs": [
        {
          "output_type": "stream",
          "name": "stdout",
          "text": [
            "2022-10-01\n"
          ]
        }
      ]
    },
    {
      "cell_type": "code",
      "source": [
        "año_actual=fecha_actual.year\n",
        "año_actual"
      ],
      "metadata": {
        "colab": {
          "base_uri": "https://localhost:8080/"
        },
        "id": "VFah0Ahz4IF1",
        "outputId": "8c1cceaf-00c8-4b56-bc68-31e498b01517"
      },
      "execution_count": 15,
      "outputs": [
        {
          "output_type": "execute_result",
          "data": {
            "text/plain": [
              "2022"
            ]
          },
          "metadata": {},
          "execution_count": 15
        }
      ]
    },
    {
      "cell_type": "markdown",
      "source": [
        "#Horas"
      ],
      "metadata": {
        "id": "zi5DN4tj4a0E"
      }
    },
    {
      "cell_type": "code",
      "source": [
        "from datetime import time"
      ],
      "metadata": {
        "id": "Txml1N7Z4QkQ"
      },
      "execution_count": 16,
      "outputs": []
    },
    {
      "cell_type": "code",
      "source": [
        "hora = time(12,25,16,11)\n",
        "print(hora)"
      ],
      "metadata": {
        "colab": {
          "base_uri": "https://localhost:8080/"
        },
        "id": "NW4UbJY64fVm",
        "outputId": "0b9c2f01-c92d-4c81-e2ba-4be38b878816"
      },
      "execution_count": 17,
      "outputs": [
        {
          "output_type": "stream",
          "name": "stdout",
          "text": [
            "12:25:16.000011\n"
          ]
        }
      ]
    },
    {
      "cell_type": "code",
      "source": [
        "hora.hour"
      ],
      "metadata": {
        "colab": {
          "base_uri": "https://localhost:8080/"
        },
        "id": "MNGEIAZG4nSH",
        "outputId": "d933441b-9fd7-4273-e8d7-a930fbe1452f"
      },
      "execution_count": 18,
      "outputs": [
        {
          "output_type": "execute_result",
          "data": {
            "text/plain": [
              "12"
            ]
          },
          "metadata": {},
          "execution_count": 18
        }
      ]
    },
    {
      "cell_type": "code",
      "source": [
        "minutos=hora.minute\n",
        "minutos"
      ],
      "metadata": {
        "colab": {
          "base_uri": "https://localhost:8080/"
        },
        "id": "f4cGS-EN4xFF",
        "outputId": "5a845c62-aca1-4845-8a95-bd3578406f91"
      },
      "execution_count": 21,
      "outputs": [
        {
          "output_type": "execute_result",
          "data": {
            "text/plain": [
              "25"
            ]
          },
          "metadata": {},
          "execution_count": 21
        }
      ]
    },
    {
      "cell_type": "code",
      "source": [
        "hora.second"
      ],
      "metadata": {
        "colab": {
          "base_uri": "https://localhost:8080/"
        },
        "id": "EzTWKu-V40Ly",
        "outputId": "bfbb6b0e-2ade-4b9e-e98f-1f2d948a6075"
      },
      "execution_count": 20,
      "outputs": [
        {
          "output_type": "execute_result",
          "data": {
            "text/plain": [
              "16"
            ]
          },
          "metadata": {},
          "execution_count": 20
        }
      ]
    },
    {
      "cell_type": "code",
      "source": [
        "#Datetime\n",
        "import datetime"
      ],
      "metadata": {
        "id": "aHZJsajZ427o"
      },
      "execution_count": 22,
      "outputs": []
    },
    {
      "cell_type": "code",
      "source": [
        "hoy_completo = datetime.datetime.now()\n",
        "hoy_completo"
      ],
      "metadata": {
        "colab": {
          "base_uri": "https://localhost:8080/"
        },
        "id": "nSJKXj1V5Kfw",
        "outputId": "49280e9b-1750-4eec-a483-e6739c2fc9b7"
      },
      "execution_count": 23,
      "outputs": [
        {
          "output_type": "execute_result",
          "data": {
            "text/plain": [
              "datetime.datetime(2022, 10, 1, 9, 33, 48, 458730)"
            ]
          },
          "metadata": {},
          "execution_count": 23
        }
      ]
    },
    {
      "cell_type": "code",
      "source": [
        "hoy_completo.day"
      ],
      "metadata": {
        "colab": {
          "base_uri": "https://localhost:8080/"
        },
        "id": "bgZm2R9S5QoQ",
        "outputId": "ff648867-21f8-4f80-d033-5d5150a66a4f"
      },
      "execution_count": 24,
      "outputs": [
        {
          "output_type": "execute_result",
          "data": {
            "text/plain": [
              "1"
            ]
          },
          "metadata": {},
          "execution_count": 24
        }
      ]
    },
    {
      "cell_type": "code",
      "source": [
        "hoy_completo.month"
      ],
      "metadata": {
        "colab": {
          "base_uri": "https://localhost:8080/"
        },
        "id": "1SIMuBKd5asM",
        "outputId": "d32cc8cd-d9ef-43e3-a21d-aa32dd1aad69"
      },
      "execution_count": 25,
      "outputs": [
        {
          "output_type": "execute_result",
          "data": {
            "text/plain": [
              "10"
            ]
          },
          "metadata": {},
          "execution_count": 25
        }
      ]
    },
    {
      "cell_type": "code",
      "source": [
        "hoy_completo.year"
      ],
      "metadata": {
        "colab": {
          "base_uri": "https://localhost:8080/"
        },
        "id": "N5e4bQyL5dfR",
        "outputId": "24915d05-19a9-48fe-e4ce-90e6cb1416e9"
      },
      "execution_count": 26,
      "outputs": [
        {
          "output_type": "execute_result",
          "data": {
            "text/plain": [
              "2022"
            ]
          },
          "metadata": {},
          "execution_count": 26
        }
      ]
    },
    {
      "cell_type": "code",
      "source": [
        "hoy_completo.hour"
      ],
      "metadata": {
        "colab": {
          "base_uri": "https://localhost:8080/"
        },
        "id": "5asbAZ-R5fWR",
        "outputId": "0f52edbb-0443-4692-833c-f0b67e878929"
      },
      "execution_count": 27,
      "outputs": [
        {
          "output_type": "execute_result",
          "data": {
            "text/plain": [
              "9"
            ]
          },
          "metadata": {},
          "execution_count": 27
        }
      ]
    },
    {
      "cell_type": "code",
      "source": [
        "hoy_completo.minute"
      ],
      "metadata": {
        "colab": {
          "base_uri": "https://localhost:8080/"
        },
        "id": "JQdpGDgp5j0p",
        "outputId": "c665ded1-5a4b-4416-f6b3-3dec109abaf9"
      },
      "execution_count": 28,
      "outputs": [
        {
          "output_type": "execute_result",
          "data": {
            "text/plain": [
              "33"
            ]
          },
          "metadata": {},
          "execution_count": 28
        }
      ]
    },
    {
      "cell_type": "code",
      "source": [
        "hoy_completo.second #microsecond"
      ],
      "metadata": {
        "colab": {
          "base_uri": "https://localhost:8080/"
        },
        "id": "SnoExIRj5lyu",
        "outputId": "2ab89472-c225-4ec5-f922-4f9f054be4b5"
      },
      "execution_count": 29,
      "outputs": [
        {
          "output_type": "execute_result",
          "data": {
            "text/plain": [
              "48"
            ]
          },
          "metadata": {},
          "execution_count": 29
        }
      ]
    },
    {
      "cell_type": "code",
      "source": [
        "tiempo = datetime.datetime(2022,9,27,16,00,30,40)\n",
        "print(tiempo)"
      ],
      "metadata": {
        "colab": {
          "base_uri": "https://localhost:8080/"
        },
        "id": "OTIlbkqN5omT",
        "outputId": "32352c88-716e-43f0-a268-298a19bed470"
      },
      "execution_count": 30,
      "outputs": [
        {
          "output_type": "stream",
          "name": "stdout",
          "text": [
            "2022-09-27 16:00:30.000040\n"
          ]
        }
      ]
    },
    {
      "cell_type": "code",
      "source": [
        "print(tiempo.weekday()) # 0 lunes 1 martes 2 miercoles... 6 domingo"
      ],
      "metadata": {
        "colab": {
          "base_uri": "https://localhost:8080/"
        },
        "id": "RIdfHRlF57JM",
        "outputId": "46278579-e68e-40f0-ec9c-234d103927a9"
      },
      "execution_count": 33,
      "outputs": [
        {
          "output_type": "stream",
          "name": "stdout",
          "text": [
            "1\n"
          ]
        }
      ]
    },
    {
      "cell_type": "code",
      "source": [
        "print(tiempo.isoweekday())"
      ],
      "metadata": {
        "colab": {
          "base_uri": "https://localhost:8080/"
        },
        "id": "o-_2oNGp6GPd",
        "outputId": "c9237134-cf6e-4c91-fb39-03d39ff53523"
      },
      "execution_count": 34,
      "outputs": [
        {
          "output_type": "stream",
          "name": "stdout",
          "text": [
            "2\n"
          ]
        }
      ]
    },
    {
      "cell_type": "code",
      "source": [
        "fecha = '25 May, 2022 16:25:13'\n",
        "fecha\n"
      ],
      "metadata": {
        "colab": {
          "base_uri": "https://localhost:8080/",
          "height": 35
        },
        "id": "vSKz9Eyu6ceT",
        "outputId": "725a9238-18cb-4c2e-99fd-92c7eeb17684"
      },
      "execution_count": 35,
      "outputs": [
        {
          "output_type": "execute_result",
          "data": {
            "text/plain": [
              "'25 May, 2022 16:25:13'"
            ],
            "application/vnd.google.colaboratory.intrinsic+json": {
              "type": "string"
            }
          },
          "metadata": {},
          "execution_count": 35
        }
      ]
    },
    {
      "cell_type": "code",
      "source": [
        "d1 = datetime.datetime.strptime(fecha,'%d %B, %Y %H:%M:%S')\n",
        "d1"
      ],
      "metadata": {
        "colab": {
          "base_uri": "https://localhost:8080/"
        },
        "id": "MebhTMIu6qKt",
        "outputId": "241e6710-6452-435c-e58c-abda6ba0ec8e"
      },
      "execution_count": 36,
      "outputs": [
        {
          "output_type": "execute_result",
          "data": {
            "text/plain": [
              "datetime.datetime(2022, 5, 25, 16, 25, 13)"
            ]
          },
          "metadata": {},
          "execution_count": 36
        }
      ]
    },
    {
      "cell_type": "code",
      "source": [
        "print(type(d1))"
      ],
      "metadata": {
        "colab": {
          "base_uri": "https://localhost:8080/"
        },
        "id": "1zNkDByr67uV",
        "outputId": "92a3be0f-d999-4bb2-ef10-0e6bc9ab38a4"
      },
      "execution_count": 37,
      "outputs": [
        {
          "output_type": "stream",
          "name": "stdout",
          "text": [
            "<class 'datetime.datetime'>\n"
          ]
        }
      ]
    },
    {
      "cell_type": "code",
      "source": [
        "d1 = datetime.datetime.now()"
      ],
      "metadata": {
        "id": "MMDdjgfB7ADq"
      },
      "execution_count": 38,
      "outputs": []
    },
    {
      "cell_type": "code",
      "source": [
        "print(\"Fecha de hoy: \",d1)"
      ],
      "metadata": {
        "colab": {
          "base_uri": "https://localhost:8080/"
        },
        "id": "ZXImNQjZ7HXV",
        "outputId": "7dd3e901-1148-40fd-8675-353c94ba126b"
      },
      "execution_count": 39,
      "outputs": [
        {
          "output_type": "stream",
          "name": "stdout",
          "text": [
            "Fecha de hoy:  2022-10-01 09:41:54.782925\n"
          ]
        }
      ]
    },
    {
      "cell_type": "code",
      "source": [
        "#Fechas futuras\n",
        "d2 = d1 + datetime.timedelta(days=2)\n",
        "print(\"Pasado mañana es \",d2)"
      ],
      "metadata": {
        "colab": {
          "base_uri": "https://localhost:8080/"
        },
        "id": "0XMzzuMZ7KSD",
        "outputId": "d7f4c2ca-8c23-484b-dd72-40380930cbc3"
      },
      "execution_count": 40,
      "outputs": [
        {
          "output_type": "stream",
          "name": "stdout",
          "text": [
            "Pasado mañana es  2022-10-03 09:41:54.782925\n"
          ]
        }
      ]
    },
    {
      "cell_type": "code",
      "source": [
        "d3 = d1 +datetime.timedelta(weeks=2)\n",
        "print(\"Fecha 2 semanas posterior \",d3)"
      ],
      "metadata": {
        "colab": {
          "base_uri": "https://localhost:8080/"
        },
        "id": "sfiZxrf17Ykk",
        "outputId": "18d29f69-9694-4f24-8e24-34f3e56ad534"
      },
      "execution_count": 41,
      "outputs": [
        {
          "output_type": "stream",
          "name": "stdout",
          "text": [
            "Fecha 2 semanas posterior  2022-10-15 09:41:54.782925\n"
          ]
        }
      ]
    },
    {
      "cell_type": "code",
      "source": [
        "#Fechas pasadas\n",
        "d2 = d1 - datetime.timedelta(days=4)\n",
        "print(\"Dia anterior \",d2)"
      ],
      "metadata": {
        "colab": {
          "base_uri": "https://localhost:8080/"
        },
        "id": "zt1nCAR07l0h",
        "outputId": "d8db46dc-2a06-47de-9b19-a1889da2fe09"
      },
      "execution_count": 42,
      "outputs": [
        {
          "output_type": "stream",
          "name": "stdout",
          "text": [
            "Dia anterior  2022-09-27 09:41:54.782925\n"
          ]
        }
      ]
    },
    {
      "cell_type": "code",
      "source": [
        "d3 = d1 - datetime.timedelta(weeks=4)\n",
        "print(\"Semanas anteriores \",d3)"
      ],
      "metadata": {
        "colab": {
          "base_uri": "https://localhost:8080/"
        },
        "id": "N6jcPrrT76DQ",
        "outputId": "25230ebb-3165-4810-c773-befd4ab9683f"
      },
      "execution_count": 44,
      "outputs": [
        {
          "output_type": "stream",
          "name": "stdout",
          "text": [
            "Semanas anteriores  2022-09-03 09:41:54.782925\n"
          ]
        }
      ]
    },
    {
      "cell_type": "code",
      "source": [],
      "metadata": {
        "id": "XW8KebXj8CMJ"
      },
      "execution_count": null,
      "outputs": []
    }
  ]
}