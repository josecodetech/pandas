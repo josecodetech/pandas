{
  "nbformat": 4,
  "nbformat_minor": 0,
  "metadata": {
    "colab": {
      "provenance": [],
      "collapsed_sections": []
    },
    "kernelspec": {
      "name": "python3",
      "display_name": "Python 3"
    },
    "language_info": {
      "name": "python"
    }
  },
  "cells": [
    {
      "cell_type": "code",
      "execution_count": 16,
      "metadata": {
        "id": "8I1g3SlsSKFV"
      },
      "outputs": [],
      "source": [
        "import pandas as pd"
      ]
    },
    {
      "cell_type": "code",
      "source": [
        "def cargar():\n",
        "  datos = pd.read_csv('/content/drive/MyDrive/datasets/titanic.csv')\n",
        "  return datos\n",
        "#datos.head(3)"
      ],
      "metadata": {
        "id": "fBVC2pNASPrV"
      },
      "execution_count": 25,
      "outputs": []
    },
    {
      "cell_type": "code",
      "source": [
        "df=cargar()\n",
        "df.isnull()"
      ],
      "metadata": {
        "colab": {
          "base_uri": "https://localhost:8080/",
          "height": 424
        },
        "id": "b7fPOS2LS4xc",
        "outputId": "77227d3a-5b10-4b84-9da1-df0517d15181"
      },
      "execution_count": 44,
      "outputs": [
        {
          "output_type": "execute_result",
          "data": {
            "text/plain": [
              "     PassengerId  Survived  Pclass   Name    Sex    Age  SibSp  Parch  Ticket  \\\n",
              "0          False     False   False  False  False  False  False  False   False   \n",
              "1          False     False   False  False  False  False  False  False   False   \n",
              "2          False     False   False  False  False  False  False  False   False   \n",
              "3          False     False   False  False  False  False  False  False   False   \n",
              "4          False     False   False  False  False  False  False  False   False   \n",
              "..           ...       ...     ...    ...    ...    ...    ...    ...     ...   \n",
              "886        False     False   False  False  False  False  False  False   False   \n",
              "887        False     False   False  False  False  False  False  False   False   \n",
              "888        False     False   False  False  False   True  False  False   False   \n",
              "889        False     False   False  False  False  False  False  False   False   \n",
              "890        False     False   False  False  False  False  False  False   False   \n",
              "\n",
              "      Fare  Cabin  Embarked  \n",
              "0    False   True     False  \n",
              "1    False  False     False  \n",
              "2    False   True     False  \n",
              "3    False  False     False  \n",
              "4    False   True     False  \n",
              "..     ...    ...       ...  \n",
              "886  False   True     False  \n",
              "887  False  False     False  \n",
              "888  False   True     False  \n",
              "889  False  False     False  \n",
              "890  False   True     False  \n",
              "\n",
              "[891 rows x 12 columns]"
            ],
            "text/html": [
              "\n",
              "  <div id=\"df-0c99fb72-bc5c-4521-8475-6cb9f5c254aa\">\n",
              "    <div class=\"colab-df-container\">\n",
              "      <div>\n",
              "<style scoped>\n",
              "    .dataframe tbody tr th:only-of-type {\n",
              "        vertical-align: middle;\n",
              "    }\n",
              "\n",
              "    .dataframe tbody tr th {\n",
              "        vertical-align: top;\n",
              "    }\n",
              "\n",
              "    .dataframe thead th {\n",
              "        text-align: right;\n",
              "    }\n",
              "</style>\n",
              "<table border=\"1\" class=\"dataframe\">\n",
              "  <thead>\n",
              "    <tr style=\"text-align: right;\">\n",
              "      <th></th>\n",
              "      <th>PassengerId</th>\n",
              "      <th>Survived</th>\n",
              "      <th>Pclass</th>\n",
              "      <th>Name</th>\n",
              "      <th>Sex</th>\n",
              "      <th>Age</th>\n",
              "      <th>SibSp</th>\n",
              "      <th>Parch</th>\n",
              "      <th>Ticket</th>\n",
              "      <th>Fare</th>\n",
              "      <th>Cabin</th>\n",
              "      <th>Embarked</th>\n",
              "    </tr>\n",
              "  </thead>\n",
              "  <tbody>\n",
              "    <tr>\n",
              "      <th>0</th>\n",
              "      <td>False</td>\n",
              "      <td>False</td>\n",
              "      <td>False</td>\n",
              "      <td>False</td>\n",
              "      <td>False</td>\n",
              "      <td>False</td>\n",
              "      <td>False</td>\n",
              "      <td>False</td>\n",
              "      <td>False</td>\n",
              "      <td>False</td>\n",
              "      <td>True</td>\n",
              "      <td>False</td>\n",
              "    </tr>\n",
              "    <tr>\n",
              "      <th>1</th>\n",
              "      <td>False</td>\n",
              "      <td>False</td>\n",
              "      <td>False</td>\n",
              "      <td>False</td>\n",
              "      <td>False</td>\n",
              "      <td>False</td>\n",
              "      <td>False</td>\n",
              "      <td>False</td>\n",
              "      <td>False</td>\n",
              "      <td>False</td>\n",
              "      <td>False</td>\n",
              "      <td>False</td>\n",
              "    </tr>\n",
              "    <tr>\n",
              "      <th>2</th>\n",
              "      <td>False</td>\n",
              "      <td>False</td>\n",
              "      <td>False</td>\n",
              "      <td>False</td>\n",
              "      <td>False</td>\n",
              "      <td>False</td>\n",
              "      <td>False</td>\n",
              "      <td>False</td>\n",
              "      <td>False</td>\n",
              "      <td>False</td>\n",
              "      <td>True</td>\n",
              "      <td>False</td>\n",
              "    </tr>\n",
              "    <tr>\n",
              "      <th>3</th>\n",
              "      <td>False</td>\n",
              "      <td>False</td>\n",
              "      <td>False</td>\n",
              "      <td>False</td>\n",
              "      <td>False</td>\n",
              "      <td>False</td>\n",
              "      <td>False</td>\n",
              "      <td>False</td>\n",
              "      <td>False</td>\n",
              "      <td>False</td>\n",
              "      <td>False</td>\n",
              "      <td>False</td>\n",
              "    </tr>\n",
              "    <tr>\n",
              "      <th>4</th>\n",
              "      <td>False</td>\n",
              "      <td>False</td>\n",
              "      <td>False</td>\n",
              "      <td>False</td>\n",
              "      <td>False</td>\n",
              "      <td>False</td>\n",
              "      <td>False</td>\n",
              "      <td>False</td>\n",
              "      <td>False</td>\n",
              "      <td>False</td>\n",
              "      <td>True</td>\n",
              "      <td>False</td>\n",
              "    </tr>\n",
              "    <tr>\n",
              "      <th>...</th>\n",
              "      <td>...</td>\n",
              "      <td>...</td>\n",
              "      <td>...</td>\n",
              "      <td>...</td>\n",
              "      <td>...</td>\n",
              "      <td>...</td>\n",
              "      <td>...</td>\n",
              "      <td>...</td>\n",
              "      <td>...</td>\n",
              "      <td>...</td>\n",
              "      <td>...</td>\n",
              "      <td>...</td>\n",
              "    </tr>\n",
              "    <tr>\n",
              "      <th>886</th>\n",
              "      <td>False</td>\n",
              "      <td>False</td>\n",
              "      <td>False</td>\n",
              "      <td>False</td>\n",
              "      <td>False</td>\n",
              "      <td>False</td>\n",
              "      <td>False</td>\n",
              "      <td>False</td>\n",
              "      <td>False</td>\n",
              "      <td>False</td>\n",
              "      <td>True</td>\n",
              "      <td>False</td>\n",
              "    </tr>\n",
              "    <tr>\n",
              "      <th>887</th>\n",
              "      <td>False</td>\n",
              "      <td>False</td>\n",
              "      <td>False</td>\n",
              "      <td>False</td>\n",
              "      <td>False</td>\n",
              "      <td>False</td>\n",
              "      <td>False</td>\n",
              "      <td>False</td>\n",
              "      <td>False</td>\n",
              "      <td>False</td>\n",
              "      <td>False</td>\n",
              "      <td>False</td>\n",
              "    </tr>\n",
              "    <tr>\n",
              "      <th>888</th>\n",
              "      <td>False</td>\n",
              "      <td>False</td>\n",
              "      <td>False</td>\n",
              "      <td>False</td>\n",
              "      <td>False</td>\n",
              "      <td>True</td>\n",
              "      <td>False</td>\n",
              "      <td>False</td>\n",
              "      <td>False</td>\n",
              "      <td>False</td>\n",
              "      <td>True</td>\n",
              "      <td>False</td>\n",
              "    </tr>\n",
              "    <tr>\n",
              "      <th>889</th>\n",
              "      <td>False</td>\n",
              "      <td>False</td>\n",
              "      <td>False</td>\n",
              "      <td>False</td>\n",
              "      <td>False</td>\n",
              "      <td>False</td>\n",
              "      <td>False</td>\n",
              "      <td>False</td>\n",
              "      <td>False</td>\n",
              "      <td>False</td>\n",
              "      <td>False</td>\n",
              "      <td>False</td>\n",
              "    </tr>\n",
              "    <tr>\n",
              "      <th>890</th>\n",
              "      <td>False</td>\n",
              "      <td>False</td>\n",
              "      <td>False</td>\n",
              "      <td>False</td>\n",
              "      <td>False</td>\n",
              "      <td>False</td>\n",
              "      <td>False</td>\n",
              "      <td>False</td>\n",
              "      <td>False</td>\n",
              "      <td>False</td>\n",
              "      <td>True</td>\n",
              "      <td>False</td>\n",
              "    </tr>\n",
              "  </tbody>\n",
              "</table>\n",
              "<p>891 rows × 12 columns</p>\n",
              "</div>\n",
              "      <button class=\"colab-df-convert\" onclick=\"convertToInteractive('df-0c99fb72-bc5c-4521-8475-6cb9f5c254aa')\"\n",
              "              title=\"Convert this dataframe to an interactive table.\"\n",
              "              style=\"display:none;\">\n",
              "        \n",
              "  <svg xmlns=\"http://www.w3.org/2000/svg\" height=\"24px\"viewBox=\"0 0 24 24\"\n",
              "       width=\"24px\">\n",
              "    <path d=\"M0 0h24v24H0V0z\" fill=\"none\"/>\n",
              "    <path d=\"M18.56 5.44l.94 2.06.94-2.06 2.06-.94-2.06-.94-.94-2.06-.94 2.06-2.06.94zm-11 1L8.5 8.5l.94-2.06 2.06-.94-2.06-.94L8.5 2.5l-.94 2.06-2.06.94zm10 10l.94 2.06.94-2.06 2.06-.94-2.06-.94-.94-2.06-.94 2.06-2.06.94z\"/><path d=\"M17.41 7.96l-1.37-1.37c-.4-.4-.92-.59-1.43-.59-.52 0-1.04.2-1.43.59L10.3 9.45l-7.72 7.72c-.78.78-.78 2.05 0 2.83L4 21.41c.39.39.9.59 1.41.59.51 0 1.02-.2 1.41-.59l7.78-7.78 2.81-2.81c.8-.78.8-2.07 0-2.86zM5.41 20L4 18.59l7.72-7.72 1.47 1.35L5.41 20z\"/>\n",
              "  </svg>\n",
              "      </button>\n",
              "      \n",
              "  <style>\n",
              "    .colab-df-container {\n",
              "      display:flex;\n",
              "      flex-wrap:wrap;\n",
              "      gap: 12px;\n",
              "    }\n",
              "\n",
              "    .colab-df-convert {\n",
              "      background-color: #E8F0FE;\n",
              "      border: none;\n",
              "      border-radius: 50%;\n",
              "      cursor: pointer;\n",
              "      display: none;\n",
              "      fill: #1967D2;\n",
              "      height: 32px;\n",
              "      padding: 0 0 0 0;\n",
              "      width: 32px;\n",
              "    }\n",
              "\n",
              "    .colab-df-convert:hover {\n",
              "      background-color: #E2EBFA;\n",
              "      box-shadow: 0px 1px 2px rgba(60, 64, 67, 0.3), 0px 1px 3px 1px rgba(60, 64, 67, 0.15);\n",
              "      fill: #174EA6;\n",
              "    }\n",
              "\n",
              "    [theme=dark] .colab-df-convert {\n",
              "      background-color: #3B4455;\n",
              "      fill: #D2E3FC;\n",
              "    }\n",
              "\n",
              "    [theme=dark] .colab-df-convert:hover {\n",
              "      background-color: #434B5C;\n",
              "      box-shadow: 0px 1px 3px 1px rgba(0, 0, 0, 0.15);\n",
              "      filter: drop-shadow(0px 1px 2px rgba(0, 0, 0, 0.3));\n",
              "      fill: #FFFFFF;\n",
              "    }\n",
              "  </style>\n",
              "\n",
              "      <script>\n",
              "        const buttonEl =\n",
              "          document.querySelector('#df-0c99fb72-bc5c-4521-8475-6cb9f5c254aa button.colab-df-convert');\n",
              "        buttonEl.style.display =\n",
              "          google.colab.kernel.accessAllowed ? 'block' : 'none';\n",
              "\n",
              "        async function convertToInteractive(key) {\n",
              "          const element = document.querySelector('#df-0c99fb72-bc5c-4521-8475-6cb9f5c254aa');\n",
              "          const dataTable =\n",
              "            await google.colab.kernel.invokeFunction('convertToInteractive',\n",
              "                                                     [key], {});\n",
              "          if (!dataTable) return;\n",
              "\n",
              "          const docLinkHtml = 'Like what you see? Visit the ' +\n",
              "            '<a target=\"_blank\" href=https://colab.research.google.com/notebooks/data_table.ipynb>data table notebook</a>'\n",
              "            + ' to learn more about interactive tables.';\n",
              "          element.innerHTML = '';\n",
              "          dataTable['output_type'] = 'display_data';\n",
              "          await google.colab.output.renderOutput(dataTable, element);\n",
              "          const docLink = document.createElement('div');\n",
              "          docLink.innerHTML = docLinkHtml;\n",
              "          element.appendChild(docLink);\n",
              "        }\n",
              "      </script>\n",
              "    </div>\n",
              "  </div>\n",
              "  "
            ]
          },
          "metadata": {},
          "execution_count": 44
        }
      ]
    },
    {
      "cell_type": "code",
      "source": [
        "#Eliminar filas que tienen al menos 1 valor faltante\n",
        "df=cargar()\n",
        "print(df.sample(4))\n",
        "print(df.shape)\n",
        "print('*'*50)\n",
        "df=df.dropna()\n",
        "print(df.sample(4))\n",
        "print(df.shape)\n",
        "print('*'*50)"
      ],
      "metadata": {
        "colab": {
          "base_uri": "https://localhost:8080/"
        },
        "id": "3vWHich1XRkZ",
        "outputId": "b63b17f2-b66c-40cd-c060-aba79eef6c3a"
      },
      "execution_count": 27,
      "outputs": [
        {
          "output_type": "stream",
          "name": "stdout",
          "text": [
            "     PassengerId  Survived  Pclass                             Name   Sex  \\\n",
            "465          466         0       3  Goncalves, Mr. Manuel Estanslas  male   \n",
            "463          464         0       2     Milling, Mr. Jacob Christian  male   \n",
            "783          784         0       3           Johnston, Mr. Andrew G  male   \n",
            "666          667         0       2      Butler, Mr. Reginald Fenton  male   \n",
            "\n",
            "      Age  SibSp  Parch              Ticket   Fare Cabin Embarked  \n",
            "465  38.0      0      0  SOTON/O.Q. 3101306   7.05   NaN        S  \n",
            "463  48.0      0      0              234360  13.00   NaN        S  \n",
            "783   NaN      1      2          W./C. 6607  23.45   NaN        S  \n",
            "666  25.0      0      0              234686  13.00   NaN        S  \n",
            "(891, 12)\n",
            "**************************************************\n",
            "     PassengerId  Survived  Pclass  \\\n",
            "571          572         1       1   \n",
            "572          573         1       1   \n",
            "724          725         1       1   \n",
            "558          559         1       1   \n",
            "\n",
            "                                              Name     Sex   Age  SibSp  \\\n",
            "571  Appleton, Mrs. Edward Dale (Charlotte Lamson)  female  53.0      2   \n",
            "572               Flynn, Mr. John Irwin (\"Irving\")    male  36.0      0   \n",
            "724                  Chambers, Mr. Norman Campbell    male  27.0      1   \n",
            "558         Taussig, Mrs. Emil (Tillie Mandelbaum)  female  39.0      1   \n",
            "\n",
            "     Parch    Ticket     Fare Cabin Embarked  \n",
            "571      0     11769  51.4792  C101        S  \n",
            "572      0  PC 17474  26.3875   E25        S  \n",
            "724      0    113806  53.1000    E8        S  \n",
            "558      1    110413  79.6500   E67        S  \n",
            "(183, 12)\n",
            "**************************************************\n"
          ]
        }
      ]
    },
    {
      "cell_type": "code",
      "source": [
        "#Eliminar columnas que tienen al menos 1 valor faltante\n",
        "df=cargar()\n",
        "print(df.sample(4))\n",
        "print(df.shape)\n",
        "print('*'*50)\n",
        "df=df.dropna(axis=1)\n",
        "print(df.sample(4))\n",
        "print(df.shape)\n",
        "print('*'*50)"
      ],
      "metadata": {
        "colab": {
          "base_uri": "https://localhost:8080/"
        },
        "id": "DfqRuEIRXtoH",
        "outputId": "9ddaa4ba-50f2-4b6d-8b51-9ba052688482"
      },
      "execution_count": 28,
      "outputs": [
        {
          "output_type": "stream",
          "name": "stdout",
          "text": [
            "     PassengerId  Survived  Pclass                            Name     Sex  \\\n",
            "82            83         1       3  McDermott, Miss. Brigdet Delia  female   \n",
            "125          126         1       3    Nicola-Yarred, Master. Elias    male   \n",
            "152          153         0       3                Meo, Mr. Alfonzo    male   \n",
            "531          532         0       3               Toufik, Mr. Nakli    male   \n",
            "\n",
            "      Age  SibSp  Parch      Ticket     Fare Cabin Embarked  \n",
            "82    NaN      0      0      330932   7.7875   NaN        Q  \n",
            "125  12.0      1      0        2651  11.2417   NaN        C  \n",
            "152  55.5      0      0  A.5. 11206   8.0500   NaN        S  \n",
            "531   NaN      0      0        2641   7.2292   NaN        C  \n",
            "(891, 12)\n",
            "**************************************************\n",
            "     PassengerId  Survived  Pclass                                     Name  \\\n",
            "828          829         1       3             McCormack, Mr. Thomas Joseph   \n",
            "598          599         0       3                        Boulos, Mr. Hanna   \n",
            "291          292         1       1  Bishop, Mrs. Dickinson H (Helen Walton)   \n",
            "844          845         0       3                      Culumovic, Mr. Jeso   \n",
            "\n",
            "        Sex  SibSp  Parch  Ticket     Fare  \n",
            "828    male      0      0  367228   7.7500  \n",
            "598    male      0      0    2664   7.2250  \n",
            "291  female      1      0   11967  91.0792  \n",
            "844    male      0      0  315090   8.6625  \n",
            "(891, 9)\n",
            "**************************************************\n"
          ]
        }
      ]
    },
    {
      "cell_type": "code",
      "source": [
        "df.columns"
      ],
      "metadata": {
        "colab": {
          "base_uri": "https://localhost:8080/"
        },
        "id": "-ewrzY9qYX-e",
        "outputId": "f48211ac-26fd-4ff3-bb06-f4d82e28fcd9"
      },
      "execution_count": 29,
      "outputs": [
        {
          "output_type": "execute_result",
          "data": {
            "text/plain": [
              "Index(['PassengerId', 'Survived', 'Pclass', 'Name', 'Sex', 'SibSp', 'Parch',\n",
              "       'Ticket', 'Fare'],\n",
              "      dtype='object')"
            ]
          },
          "metadata": {},
          "execution_count": 29
        }
      ]
    },
    {
      "cell_type": "code",
      "source": [
        "#Eliminar solo cuando todos sus valores son nulos\n",
        "df=cargar()\n",
        "print(df.sample(4))\n",
        "print(df.shape)\n",
        "print('*'*50)\n",
        "df=df.dropna(axis=0,how='all')#para columnas axis=1\n",
        "print(df.sample(4))\n",
        "print(df.shape)\n",
        "print('*'*50)"
      ],
      "metadata": {
        "colab": {
          "base_uri": "https://localhost:8080/"
        },
        "id": "5I8ceLxjYhAA",
        "outputId": "d5a9fe99-5788-4308-d4d5-c8af5a8b2974"
      },
      "execution_count": 31,
      "outputs": [
        {
          "output_type": "stream",
          "name": "stdout",
          "text": [
            "     PassengerId  Survived  Pclass                                 Name  \\\n",
            "494          495         0       3           Stanley, Mr. Edward Roland   \n",
            "717          718         1       2  Troutt, Miss. Edwina Celia \"Winnie\"   \n",
            "208          209         1       3            Carr, Miss. Helen \"Ellen\"   \n",
            "663          664         0       3                     Coleff, Mr. Peju   \n",
            "\n",
            "        Sex   Age  SibSp  Parch     Ticket     Fare Cabin Embarked  \n",
            "494    male  21.0      0      0  A/4 45380   8.0500   NaN        S  \n",
            "717  female  27.0      0      0      34218  10.5000  E101        S  \n",
            "208  female  16.0      0      0     367231   7.7500   NaN        Q  \n",
            "663    male  36.0      0      0     349210   7.4958   NaN        S  \n",
            "(891, 12)\n",
            "**************************************************\n",
            "     PassengerId  Survived  Pclass                             Name     Sex  \\\n",
            "245          246         0       1      Minahan, Dr. William Edward    male   \n",
            "368          369         1       3              Jermyn, Miss. Annie  female   \n",
            "744          745         1       3               Stranden, Mr. Juho    male   \n",
            "604          605         1       1  Homer, Mr. Harry (\"Mr E Haven\")    male   \n",
            "\n",
            "      Age  SibSp  Parch             Ticket    Fare Cabin Embarked  \n",
            "245  44.0      2      0              19928  90.000   C78        Q  \n",
            "368   NaN      0      0              14313   7.750   NaN        Q  \n",
            "744  31.0      0      0  STON/O 2. 3101288   7.925   NaN        S  \n",
            "604  35.0      0      0             111426  26.550   NaN        C  \n",
            "(891, 12)\n",
            "**************************************************\n"
          ]
        }
      ]
    },
    {
      "cell_type": "code",
      "source": [
        "#Eliminar si tiene al menos 2 faltantes\n",
        "df=cargar()\n",
        "print(df.sample(4))\n",
        "print(df.shape)\n",
        "print('*'*50)\n",
        "df=df.dropna(axis=0,thresh=2)\n",
        "print(df.sample(4))\n",
        "print(df.shape)\n",
        "print('*'*50)"
      ],
      "metadata": {
        "colab": {
          "base_uri": "https://localhost:8080/"
        },
        "id": "mRze9AvHYvYJ",
        "outputId": "afc3fac0-cb62-4372-a385-5b1062b25ae3"
      },
      "execution_count": 32,
      "outputs": [
        {
          "output_type": "stream",
          "name": "stdout",
          "text": [
            "     PassengerId  Survived  Pclass                          Name     Sex  \\\n",
            "456          457         0       1     Millet, Mr. Francis Davis    male   \n",
            "733          734         0       2    Berriman, Mr. William John    male   \n",
            "887          888         1       1  Graham, Miss. Margaret Edith  female   \n",
            "335          336         0       3            Denkoff, Mr. Mitto    male   \n",
            "\n",
            "      Age  SibSp  Parch  Ticket     Fare Cabin Embarked  \n",
            "456  65.0      0      0   13509  26.5500   E38        S  \n",
            "733  23.0      0      0   28425  13.0000   NaN        S  \n",
            "887  19.0      0      0  112053  30.0000   B42        S  \n",
            "335   NaN      0      0  349225   7.8958   NaN        S  \n",
            "(891, 12)\n",
            "**************************************************\n",
            "     PassengerId  Survived  Pclass                               Name     Sex  \\\n",
            "689          690         1       1  Madill, Miss. Georgette Alexandra  female   \n",
            "751          752         1       3                Moor, Master. Meier    male   \n",
            "88            89         1       1         Fortune, Miss. Mabel Helen  female   \n",
            "264          265         0       3                 Henry, Miss. Delia  female   \n",
            "\n",
            "      Age  SibSp  Parch  Ticket      Fare        Cabin Embarked  \n",
            "689  15.0      0      1   24160  211.3375           B5        S  \n",
            "751   6.0      0      1  392096   12.4750         E121        S  \n",
            "88   23.0      3      2   19950  263.0000  C23 C25 C27        S  \n",
            "264   NaN      0      0  382649    7.7500          NaN        Q  \n",
            "(891, 12)\n",
            "**************************************************\n"
          ]
        }
      ]
    },
    {
      "cell_type": "code",
      "source": [
        "#Eliminar por columna especifica o dada\n",
        "df=cargar()\n",
        "print(df.sample(4))\n",
        "print(df.shape)\n",
        "print('*'*50)\n",
        "df=df.dropna(subset=['Cabin'])\n",
        "print(df.sample(4))\n",
        "print(df.shape)\n",
        "print('*'*50)"
      ],
      "metadata": {
        "colab": {
          "base_uri": "https://localhost:8080/"
        },
        "id": "JferVHx3ZFDz",
        "outputId": "a4867fbb-f63f-4330-d44c-a381f984bca2"
      },
      "execution_count": 33,
      "outputs": [
        {
          "output_type": "stream",
          "name": "stdout",
          "text": [
            "     PassengerId  Survived  Pclass                                     Name  \\\n",
            "744          745         1       3                       Stranden, Mr. Juho   \n",
            "225          226         0       3             Berglund, Mr. Karl Ivar Sven   \n",
            "678          679         0       3  Goodwin, Mrs. Frederick (Augusta Tyler)   \n",
            "302          303         0       3          Johnson, Mr. William Cahoone Jr   \n",
            "\n",
            "        Sex   Age  SibSp  Parch             Ticket    Fare Cabin Embarked  \n",
            "744    male  31.0      0      0  STON/O 2. 3101288   7.925   NaN        S  \n",
            "225    male  22.0      0      0            PP 4348   9.350   NaN        S  \n",
            "678  female  43.0      1      6            CA 2144  46.900   NaN        S  \n",
            "302    male  19.0      0      0               LINE   0.000   NaN        S  \n",
            "(891, 12)\n",
            "**************************************************\n",
            "     PassengerId  Survived  Pclass  \\\n",
            "585          586         1       1   \n",
            "879          880         1       1   \n",
            "438          439         0       1   \n",
            "779          780         1       1   \n",
            "\n",
            "                                                  Name     Sex   Age  SibSp  \\\n",
            "585                                Taussig, Miss. Ruth  female  18.0      0   \n",
            "879      Potter, Mrs. Thomas Jr (Lily Alexenia Wilson)  female  56.0      0   \n",
            "438                                  Fortune, Mr. Mark    male  64.0      1   \n",
            "779  Robert, Mrs. Edward Scott (Elisabeth Walton Mc...  female  43.0      0   \n",
            "\n",
            "     Parch  Ticket      Fare        Cabin Embarked  \n",
            "585      2  110413   79.6500          E68        S  \n",
            "879      1   11767   83.1583          C50        C  \n",
            "438      4   19950  263.0000  C23 C25 C27        S  \n",
            "779      1   24160  211.3375           B3        S  \n",
            "(204, 12)\n",
            "**************************************************\n"
          ]
        }
      ]
    },
    {
      "cell_type": "code",
      "source": [
        "#Sustituimos por valor indicado 0\n",
        "df=cargar()\n",
        "print(df.sample(4))\n",
        "print(df.shape)\n",
        "print('*'*50)\n",
        "df.fillna('sin datos',inplace=True)\n",
        "print(df.sample(4))\n",
        "print(df.shape)\n",
        "print('*'*50)"
      ],
      "metadata": {
        "colab": {
          "base_uri": "https://localhost:8080/"
        },
        "id": "HTfnUm_GZSTZ",
        "outputId": "cc505f65-85e4-4bb5-b549-35fbffa68260"
      },
      "execution_count": 35,
      "outputs": [
        {
          "output_type": "stream",
          "name": "stdout",
          "text": [
            "     PassengerId  Survived  Pclass                            Name     Sex  \\\n",
            "63            64         0       3           Skoog, Master. Harald    male   \n",
            "702          703         0       3           Barbara, Miss. Saiide  female   \n",
            "226          227         1       2       Mellors, Mr. William John    male   \n",
            "27            28         0       1  Fortune, Mr. Charles Alexander    male   \n",
            "\n",
            "      Age  SibSp  Parch     Ticket      Fare        Cabin Embarked  \n",
            "63    4.0      3      2     347088   27.9000          NaN        S  \n",
            "702  18.0      0      1       2691   14.4542          NaN        C  \n",
            "226  19.0      0      0  SW/PP 751   10.5000          NaN        S  \n",
            "27   19.0      3      2      19950  263.0000  C23 C25 C27        S  \n",
            "(891, 12)\n",
            "**************************************************\n",
            "     PassengerId  Survived  Pclass                                  Name  \\\n",
            "33            34         0       2                 Wheadon, Mr. Edward H   \n",
            "436          437         0       3  Ford, Miss. Doolina Margaret \"Daisy\"   \n",
            "206          207         0       3            Backstrom, Mr. Karl Alfred   \n",
            "465          466         0       3       Goncalves, Mr. Manuel Estanslas   \n",
            "\n",
            "        Sex   Age  SibSp  Parch              Ticket    Fare      Cabin  \\\n",
            "33     male  66.0      0      0          C.A. 24579  10.500  sin datos   \n",
            "436  female  21.0      2      2          W./C. 6608  34.375  sin datos   \n",
            "206    male  32.0      1      0             3101278  15.850  sin datos   \n",
            "465    male  38.0      0      0  SOTON/O.Q. 3101306   7.050  sin datos   \n",
            "\n",
            "    Embarked  \n",
            "33         S  \n",
            "436        S  \n",
            "206        S  \n",
            "465        S  \n",
            "(891, 12)\n",
            "**************************************************\n"
          ]
        }
      ]
    },
    {
      "cell_type": "code",
      "source": [
        "#Sustituimos con el promedio\n",
        "df=cargar()\n",
        "media=df.mean()\n",
        "print(df.sample(4))\n",
        "print(df.shape)\n",
        "print('*'*50)\n",
        "df.fillna(media,inplace=True)\n",
        "print(df.sample(4))\n",
        "print(df.shape)\n",
        "print('*'*50)"
      ],
      "metadata": {
        "colab": {
          "base_uri": "https://localhost:8080/"
        },
        "id": "OsSTpQtzZzaB",
        "outputId": "35796657-b2f7-4a5b-db67-cd8ab6a7f561"
      },
      "execution_count": 40,
      "outputs": [
        {
          "output_type": "stream",
          "name": "stdout",
          "text": [
            "     PassengerId  Survived  Pclass                            Name     Sex  \\\n",
            "346          347         1       2       Smith, Miss. Marion Elsie  female   \n",
            "491          492         0       3             Windelov, Mr. Einar    male   \n",
            "677          678         1       3         Turja, Miss. Anna Sofia  female   \n",
            "82            83         1       3  McDermott, Miss. Brigdet Delia  female   \n",
            "\n",
            "      Age  SibSp  Parch            Ticket     Fare Cabin Embarked  \n",
            "346  40.0      0      0             31418  13.0000   NaN        S  \n",
            "491  21.0      0      0  SOTON/OQ 3101317   7.2500   NaN        S  \n",
            "677  18.0      0      0              4138   9.8417   NaN        S  \n",
            "82    NaN      0      0            330932   7.7875   NaN        Q  \n",
            "(891, 12)\n",
            "**************************************************\n",
            "     PassengerId  Survived  Pclass                                Name  \\\n",
            "539          540         1       1  Frolicher, Miss. Hedwig Margaritha   \n",
            "387          388         1       2                    Buss, Miss. Kate   \n",
            "588          589         0       3               Gilinski, Mr. Eliezer   \n",
            "95            96         0       3         Shorney, Mr. Charles Joseph   \n",
            "\n",
            "        Sex        Age  SibSp  Parch  Ticket   Fare Cabin Embarked  \n",
            "539  female  22.000000      0      2   13568  49.50   B39        C  \n",
            "387  female  36.000000      0      0   27849  13.00   NaN        S  \n",
            "588    male  22.000000      0      0   14973   8.05   NaN        S  \n",
            "95     male  29.699118      0      0  374910   8.05   NaN        S  \n",
            "(891, 12)\n",
            "**************************************************\n"
          ]
        },
        {
          "output_type": "stream",
          "name": "stderr",
          "text": [
            "/usr/local/lib/python3.7/dist-packages/ipykernel_launcher.py:3: FutureWarning: Dropping of nuisance columns in DataFrame reductions (with 'numeric_only=None') is deprecated; in a future version this will raise TypeError.  Select only valid columns before calling the reduction.\n",
            "  This is separate from the ipykernel package so we can avoid doing imports until\n"
          ]
        }
      ]
    },
    {
      "cell_type": "code",
      "source": [
        "df=cargar()\n",
        "df.mean()"
      ],
      "metadata": {
        "colab": {
          "base_uri": "https://localhost:8080/"
        },
        "id": "KsQuUvjUaEKB",
        "outputId": "81f502be-8cc4-4032-be84-d44ad07f073a"
      },
      "execution_count": 41,
      "outputs": [
        {
          "output_type": "stream",
          "name": "stderr",
          "text": [
            "/usr/local/lib/python3.7/dist-packages/ipykernel_launcher.py:2: FutureWarning: Dropping of nuisance columns in DataFrame reductions (with 'numeric_only=None') is deprecated; in a future version this will raise TypeError.  Select only valid columns before calling the reduction.\n",
            "  \n"
          ]
        },
        {
          "output_type": "execute_result",
          "data": {
            "text/plain": [
              "PassengerId    446.000000\n",
              "Survived         0.383838\n",
              "Pclass           2.308642\n",
              "Age             29.699118\n",
              "SibSp            0.523008\n",
              "Parch            0.381594\n",
              "Fare            32.204208\n",
              "dtype: float64"
            ]
          },
          "metadata": {},
          "execution_count": 41
        }
      ]
    },
    {
      "cell_type": "code",
      "source": [
        "#Sustituimos con valor anterior\n",
        "df=cargar()\n",
        "print(df.sample(4))\n",
        "print(df.shape)\n",
        "print('*'*50)\n",
        "df.fillna(method='bfill',inplace=True)\n",
        "print(df.sample(4))\n",
        "print(df.shape)\n",
        "print('*'*50)"
      ],
      "metadata": {
        "colab": {
          "base_uri": "https://localhost:8080/"
        },
        "id": "euKriW5raI5f",
        "outputId": "0f71e9eb-c262-4392-d5af-0903fde25353"
      },
      "execution_count": 42,
      "outputs": [
        {
          "output_type": "stream",
          "name": "stdout",
          "text": [
            "     PassengerId  Survived  Pclass                         Name   Sex   Age  \\\n",
            "595          596         0       3  Van Impe, Mr. Jean Baptiste  male  36.0   \n",
            "890          891         0       3          Dooley, Mr. Patrick  male  32.0   \n",
            "703          704         0       3        Gallagher, Mr. Martin  male  25.0   \n",
            "301          302         1       3           McCoy, Mr. Bernard  male   NaN   \n",
            "\n",
            "     SibSp  Parch  Ticket     Fare Cabin Embarked  \n",
            "595      1      1  345773  24.1500   NaN        S  \n",
            "890      0      0  370376   7.7500   NaN        Q  \n",
            "703      0      0   36864   7.7417   NaN        Q  \n",
            "301      2      0  367226  23.2500   NaN        Q  \n",
            "(891, 12)\n",
            "**************************************************\n",
            "     PassengerId  Survived  Pclass  \\\n",
            "395          396         0       3   \n",
            "374          375         0       3   \n",
            "498          499         0       1   \n",
            "673          674         1       2   \n",
            "\n",
            "                                                Name     Sex   Age  SibSp  \\\n",
            "395                              Johansson, Mr. Erik    male  22.0      0   \n",
            "374                       Palsson, Miss. Stina Viola  female   3.0      3   \n",
            "498  Allison, Mrs. Hudson J C (Bessie Waldo Daniels)  female  25.0      1   \n",
            "673                            Wilhelms, Mr. Charles    male  31.0      0   \n",
            "\n",
            "     Parch  Ticket      Fare        Cabin Embarked  \n",
            "395      0  350052    7.7958          C78        S  \n",
            "374      1  349909   21.0750          C82        S  \n",
            "498      2  113781  151.5500      C22 C26        S  \n",
            "673      0  244270   13.0000  B51 B53 B55        S  \n",
            "(891, 12)\n",
            "**************************************************\n"
          ]
        }
      ]
    },
    {
      "cell_type": "code",
      "source": [
        "#Sustituimos con valor posterior\n",
        "df=cargar()\n",
        "print(df.sample(4))\n",
        "print(df.shape)\n",
        "print('*'*50)\n",
        "df.fillna(method='ffill',inplace=True)\n",
        "print(df.sample(4))\n",
        "print(df.shape)\n",
        "print('*'*50)"
      ],
      "metadata": {
        "colab": {
          "base_uri": "https://localhost:8080/"
        },
        "id": "74cMKZgmbNnN",
        "outputId": "8d143d14-11f1-49a1-e043-c58c048f8d5d"
      },
      "execution_count": 43,
      "outputs": [
        {
          "output_type": "stream",
          "name": "stdout",
          "text": [
            "     PassengerId  Survived  Pclass  \\\n",
            "126          127         0       3   \n",
            "84            85         1       2   \n",
            "779          780         1       1   \n",
            "392          393         0       3   \n",
            "\n",
            "                                                  Name     Sex   Age  SibSp  \\\n",
            "126                                McMahon, Mr. Martin    male   NaN      0   \n",
            "84                                 Ilett, Miss. Bertha  female  17.0      0   \n",
            "779  Robert, Mrs. Edward Scott (Elisabeth Walton Mc...  female  43.0      0   \n",
            "392                       Gustafsson, Mr. Johan Birger    male  28.0      2   \n",
            "\n",
            "     Parch      Ticket      Fare Cabin Embarked  \n",
            "126      0      370372    7.7500   NaN        Q  \n",
            "84       0  SO/C 14885   10.5000   NaN        S  \n",
            "779      1       24160  211.3375    B3        S  \n",
            "392      0     3101277    7.9250   NaN        S  \n",
            "(891, 12)\n",
            "**************************************************\n",
            "     PassengerId  Survived  Pclass  \\\n",
            "32            33         1       3   \n",
            "121          122         0       3   \n",
            "246          247         0       3   \n",
            "53            54         1       2   \n",
            "\n",
            "                                                  Name     Sex   Age  SibSp  \\\n",
            "32                            Glynn, Miss. Mary Agatha  female  40.0      0   \n",
            "121                         Moore, Mr. Leonard Charles    male  21.0      0   \n",
            "246              Lindahl, Miss. Agda Thorilda Viktoria  female  25.0      0   \n",
            "53   Faunthorpe, Mrs. Lizzie (Elizabeth Anne Wilkin...  female  29.0      1   \n",
            "\n",
            "     Parch     Ticket    Fare    Cabin Embarked  \n",
            "32       0     335677   7.750      B78        Q  \n",
            "121      0  A4. 54510   8.050  B58 B60        S  \n",
            "246      0     347071   7.775      C78        S  \n",
            "53       0       2926  26.000      D33        S  \n",
            "(891, 12)\n",
            "**************************************************\n"
          ]
        }
      ]
    },
    {
      "cell_type": "code",
      "source": [],
      "metadata": {
        "id": "sLFEC00MbcGE"
      },
      "execution_count": null,
      "outputs": []
    }
  ]
}