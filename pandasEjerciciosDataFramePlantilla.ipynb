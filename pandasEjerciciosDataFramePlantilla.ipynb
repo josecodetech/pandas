{
  "nbformat": 4,
  "nbformat_minor": 0,
  "metadata": {
    "colab": {
      "provenance": [],
      "collapsed_sections": []
    },
    "kernelspec": {
      "name": "python3",
      "display_name": "Python 3"
    },
    "language_info": {
      "name": "python"
    }
  },
  "cells": [
    {
      "cell_type": "code",
      "execution_count": null,
      "metadata": {
        "id": "ZyZ273xU_1_H"
      },
      "outputs": [],
      "source": [
        "import pandas as pd"
      ]
    },
    {
      "cell_type": "markdown",
      "source": [
        "Muestra un DataFrame con los datos de la siguiente tabla:\n",
        "\n",
        "```\n",
        "  Mes     Ingresos     Gastos\n",
        "  Enero   21500        17000\n",
        "  Febrero 17600        15400\n",
        "  Marzo   25000        19200\n",
        "  Abril   34800        22500\n",
        "```\n",
        "\n"
      ],
      "metadata": {
        "id": "R4Af36SWAJDf"
      }
    },
    {
      "cell_type": "code",
      "source": [],
      "metadata": {
        "id": "nz44pbD7u7Nh"
      },
      "execution_count": null,
      "outputs": []
    },
    {
      "cell_type": "markdown",
      "source": [
        "Escribe una funcion que reciba el DataFrame del ejercicio anterior y devuelva el beneficio total de cada mes (Ingresos - Gastos).\n"
      ],
      "metadata": {
        "id": "VvUwIClSAm9V"
      }
    },
    {
      "cell_type": "code",
      "source": [],
      "metadata": {
        "id": "Lf80YYwZADEC"
      },
      "execution_count": null,
      "outputs": []
    },
    {
      "cell_type": "markdown",
      "source": [
        "En github he subido el fichero titanic.csv (obtenido de kaggle.com) y realizar las siguientes operaciones.\n",
        "\n",
        "\n",
        "1.   Generar un DataFrame con los datos del fichero indicado.\n",
        "2.   Mostrar sus dimensiones, el numero de datos que contiene, nombres de las columnas y filas, tipos de datos de las columnas y mostrar las 5 primeras filas y las 5 ultimas.\n",
        "3.   Mostrar los datos del pasajero con identificador 121.\n",
        "4.   Mostrar las filas impares del DataFrame.\n",
        "5.   Cuantas personas sobrevivieron y murieron, indicar porcentaje.\n",
        "6.   Personas que estaban en segunda clase por orden alfabetico.\n",
        "7.   Eliminar los pasajeros que no tengan registrada su edad o sea nula.\n",
        "8.   Porcentaje de personas que murieron por cada clase.\n",
        "9.   Edad media de hombres y mujeres que viajaban en cada clase.\n",
        "10.  Añadir nueva columna que indique si el pasajero era menor de edad o no.\n",
        "11.  Mostrar el porcentaje de menores y mayores de edad que sobrevivieron.\n",
        "\n"
      ],
      "metadata": {
        "id": "crWOWAlZBNWV"
      }
    },
    {
      "cell_type": "code",
      "source": [],
      "metadata": {
        "id": "oqo_S22zA8lC"
      },
      "execution_count": null,
      "outputs": []
    }
  ]
}