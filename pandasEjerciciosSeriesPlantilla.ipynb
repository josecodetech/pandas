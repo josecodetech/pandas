{
  "nbformat": 4,
  "nbformat_minor": 0,
  "metadata": {
    "colab": {
      "provenance": [],
      "collapsed_sections": []
    },
    "kernelspec": {
      "name": "python3",
      "display_name": "Python 3"
    },
    "language_info": {
      "name": "python"
    }
  },
  "cells": [
    {
      "cell_type": "code",
      "execution_count": 1,
      "metadata": {
        "id": "ZyZ273xU_1_H"
      },
      "outputs": [],
      "source": [
        "import pandas as pd"
      ]
    },
    {
      "cell_type": "markdown",
      "source": [
        "Escribe una funcion a la que le podamos pasar un diccionario con notas de alumnos y nos devuelva la nota minima, la maxima y la media."
      ],
      "metadata": {
        "id": "R4Af36SWAJDf"
      }
    },
    {
      "cell_type": "code",
      "source": [],
      "metadata": {
        "id": "gxL8R7xc_9bS"
      },
      "execution_count": null,
      "outputs": []
    },
    {
      "cell_type": "markdown",
      "source": [
        "Crea una serie a partir de una matriz con indices\n"
      ],
      "metadata": {
        "id": "VvUwIClSAm9V"
      }
    },
    {
      "cell_type": "code",
      "source": [],
      "metadata": {
        "id": "Lf80YYwZADEC"
      },
      "execution_count": null,
      "outputs": []
    },
    {
      "cell_type": "markdown",
      "source": [
        "Crea una serie a partir de un diccionario"
      ],
      "metadata": {
        "id": "crWOWAlZBNWV"
      }
    },
    {
      "cell_type": "code",
      "source": [],
      "metadata": {
        "id": "oqo_S22zA8lC"
      },
      "execution_count": null,
      "outputs": []
    },
    {
      "cell_type": "markdown",
      "source": [
        "Crea una serie a partir de una lista\n",
        "\n",
        "\n",
        "\n"
      ],
      "metadata": {
        "id": "qzyfiMi2BcTE"
      }
    },
    {
      "cell_type": "code",
      "source": [
        "\n"
      ],
      "metadata": {
        "id": "JX6wj4GBBvTB"
      },
      "execution_count": null,
      "outputs": []
    },
    {
      "cell_type": "markdown",
      "source": [
        "Busca informacion en la web para crear una serie usando la funcion linspace de numpy"
      ],
      "metadata": {
        "id": "sSVTJyodCBRd"
      }
    },
    {
      "cell_type": "code",
      "source": [],
      "metadata": {
        "id": "pgNBJO9NBx73"
      },
      "execution_count": null,
      "outputs": []
    },
    {
      "cell_type": "markdown",
      "source": [
        "Crea una serie con numeros al azar entre 0 y 1"
      ],
      "metadata": {
        "id": "_HJnuOGzEPGZ"
      }
    },
    {
      "cell_type": "code",
      "source": [],
      "metadata": {
        "id": "rdt7edsFD_3U"
      },
      "execution_count": null,
      "outputs": []
    },
    {
      "cell_type": "markdown",
      "source": [
        "Muestra los elementos de posiciones 1, 3 y 5 de la serie anterior"
      ],
      "metadata": {
        "id": "jr3_I45GFBjR"
      }
    },
    {
      "cell_type": "code",
      "source": [],
      "metadata": {
        "id": "VjQUcYKEE_M6"
      },
      "execution_count": null,
      "outputs": []
    },
    {
      "cell_type": "markdown",
      "source": [
        "Muestra los 2 primeros elementos de la serie anterior"
      ],
      "metadata": {
        "id": "dpMs-3iFGFYi"
      }
    },
    {
      "cell_type": "code",
      "source": [],
      "metadata": {
        "id": "Hr9-D--vFF7q"
      },
      "execution_count": null,
      "outputs": []
    },
    {
      "cell_type": "markdown",
      "source": [
        "Muestra los 2 ultimos elementos de la serie anterior"
      ],
      "metadata": {
        "id": "EfErapyBGy6_"
      }
    }
  ]
}